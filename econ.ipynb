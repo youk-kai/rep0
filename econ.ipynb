{
 "cells": [
  {
   "cell_type": "code",
   "execution_count": 2,
   "metadata": {},
   "outputs": [],
   "source": [
    "import numpy as np, pandas as pd, matplotlib.pyplot as plt"
   ]
  },
  {
   "cell_type": "code",
   "execution_count": 7,
   "metadata": {},
   "outputs": [],
   "source": [
    "df = pd.read_excel('infla2.xlsx')"
   ]
  },
  {
   "cell_type": "code",
   "execution_count": 151,
   "metadata": {},
   "outputs": [
    {
     "data": {
      "text/html": [
       "<div>\n",
       "<style scoped>\n",
       "    .dataframe tbody tr th:only-of-type {\n",
       "        vertical-align: middle;\n",
       "    }\n",
       "\n",
       "    .dataframe tbody tr th {\n",
       "        vertical-align: top;\n",
       "    }\n",
       "\n",
       "    .dataframe thead th {\n",
       "        text-align: right;\n",
       "    }\n",
       "</style>\n",
       "<table border=\"1\" class=\"dataframe\">\n",
       "  <thead>\n",
       "    <tr style=\"text-align: right;\">\n",
       "      <th></th>\n",
       "      <th>TIME</th>\n",
       "      <th>CANADA</th>\n",
       "      <th>FRANCA</th>\n",
       "      <th>ALEMANHA</th>\n",
       "      <th>ITALIA</th>\n",
       "      <th>JAPAO</th>\n",
       "      <th>REINO_UNIDO</th>\n",
       "      <th>USA</th>\n",
       "      <th>BRASIL</th>\n",
       "    </tr>\n",
       "  </thead>\n",
       "  <tbody>\n",
       "    <tr>\n",
       "      <th>0</th>\n",
       "      <td>1997</td>\n",
       "      <td>87</td>\n",
       "      <td>109</td>\n",
       "      <td>110</td>\n",
       "      <td>92</td>\n",
       "      <td>140</td>\n",
       "      <td>116</td>\n",
       "      <td>100</td>\n",
       "      <td>62</td>\n",
       "    </tr>\n",
       "    <tr>\n",
       "      <th>1</th>\n",
       "      <td>1998</td>\n",
       "      <td>82</td>\n",
       "      <td>110</td>\n",
       "      <td>111</td>\n",
       "      <td>92</td>\n",
       "      <td>131</td>\n",
       "      <td>123</td>\n",
       "      <td>103</td>\n",
       "      <td>61</td>\n",
       "    </tr>\n",
       "    <tr>\n",
       "      <th>2</th>\n",
       "      <td>1999</td>\n",
       "      <td>82</td>\n",
       "      <td>104</td>\n",
       "      <td>104</td>\n",
       "      <td>88</td>\n",
       "      <td>146</td>\n",
       "      <td>120</td>\n",
       "      <td>102</td>\n",
       "      <td>41</td>\n",
       "    </tr>\n",
       "    <tr>\n",
       "      <th>3</th>\n",
       "      <td>2000</td>\n",
       "      <td>89</td>\n",
       "      <td>92</td>\n",
       "      <td>94</td>\n",
       "      <td>80</td>\n",
       "      <td>154</td>\n",
       "      <td>114</td>\n",
       "      <td>107</td>\n",
       "      <td>44</td>\n",
       "    </tr>\n",
       "    <tr>\n",
       "      <th>4</th>\n",
       "      <td>2001</td>\n",
       "      <td>89</td>\n",
       "      <td>92</td>\n",
       "      <td>94</td>\n",
       "      <td>82</td>\n",
       "      <td>139</td>\n",
       "      <td>112</td>\n",
       "      <td>113</td>\n",
       "      <td>38</td>\n",
       "    </tr>\n",
       "  </tbody>\n",
       "</table>\n",
       "</div>"
      ],
      "text/plain": [
       "   TIME  CANADA  FRANCA  ALEMANHA  ITALIA  JAPAO  REINO_UNIDO  USA  BRASIL\n",
       "0  1997      87     109       110      92    140          116  100      62\n",
       "1  1998      82     110       111      92    131          123  103      61\n",
       "2  1999      82     104       104      88    146          120  102      41\n",
       "3  2000      89      92        94      80    154          114  107      44\n",
       "4  2001      89      92        94      82    139          112  113      38"
      ]
     },
     "execution_count": 151,
     "metadata": {},
     "output_type": "execute_result"
    }
   ],
   "source": [
    "df.head()"
   ]
  },
  {
   "cell_type": "markdown",
   "metadata": {},
   "source": [
    "Verificaremos abaixo as taxas de inflação."
   ]
  },
  {
   "cell_type": "code",
   "execution_count": 117,
   "metadata": {},
   "outputs": [],
   "source": [
    "caninfla = []\n",
    "veccan = df['CANADA'].values\n",
    "for e in range(0, len(veccan)):\n",
    "    if e > 0:\n",
    "        caninfla.append((veccan[e] - veccan[e - 1]) / veccan[e - 1] * 100)\n",
    "        \n",
    "frainfla = []\n",
    "vecfra = df['FRANCA'].values\n",
    "for e in range(0, len(vecfra)):\n",
    "    if e > 0:\n",
    "        frainfla.append((vecfra[e] - vecfra[e - 1]) / vecfra[e - 1] * 100)\n",
    "\n",
    "aleinfla = []\n",
    "vecale = df['ALEMANHA'].values\n",
    "for e in range(0, len(vecale)):\n",
    "    if e > 0:\n",
    "        aleinfla.append((vecale[e] - vecale[e - 1]) / vecale[e - 1] * 100)\n",
    "        \n",
    "itainfla = []\n",
    "vecita = df['ITALIA'].values\n",
    "for e in range(0, len(veccan)):\n",
    "    if e > 0:\n",
    "        itainfla.append((vecita[e] - vecita[e - 1]) / vecita[e - 1] * 100)\n",
    "        \n",
    "japinfla = []\n",
    "vecjap = df['JAPAO'].values\n",
    "for e in range(0, len(veccan)):\n",
    "    if e > 0:\n",
    "        japinfla.append((vecjap[e] - vecjap[e - 1]) / vecjap[e - 1] * 100)\n",
    "        \n",
    "ukinfla = []\n",
    "vecuk = df['REINO_UNIDO'].values\n",
    "for e in range(0, len(veccan)):\n",
    "    if e > 0:\n",
    "        ukinfla.append((vecuk[e] - vecuk[e - 1]) / vecuk[e - 1] * 100)\n",
    "        \n",
    "usinfla = []\n",
    "vecus = df['USA'].values\n",
    "for e in range(0, len(veccan)):\n",
    "    if e > 0:\n",
    "        usinfla.append((vecus[e] - vecus[e - 1]) / vecus[e - 1] * 100)\n",
    "        \n",
    "brainfla = []\n",
    "vecbra = df['BRASIL'].values\n",
    "for e in range(0, len(veccan)):\n",
    "    if e > 0:\n",
    "        brainfla.append((vecbra[e] - vecbra[e - 1]) / vecbra[e - 1] * 100)"
   ]
  },
  {
   "cell_type": "code",
   "execution_count": 153,
   "metadata": {},
   "outputs": [],
   "source": [
    "dfinfla = pd.DataFrame(zip(caninfla, frainfla, aleinfla, itainfla, japinfla, ukinfla, usinfla, brainfla), columns = ('CANADA', 'FRANCA', 'ALEMANHA', 'ITALIA', 'JAPAO', 'REINO_UNIDO', 'USA', 'BRASIL'))"
   ]
  },
  {
   "cell_type": "code",
   "execution_count": 154,
   "metadata": {},
   "outputs": [
    {
     "data": {
      "text/html": [
       "<div>\n",
       "<style scoped>\n",
       "    .dataframe tbody tr th:only-of-type {\n",
       "        vertical-align: middle;\n",
       "    }\n",
       "\n",
       "    .dataframe tbody tr th {\n",
       "        vertical-align: top;\n",
       "    }\n",
       "\n",
       "    .dataframe thead th {\n",
       "        text-align: right;\n",
       "    }\n",
       "</style>\n",
       "<table border=\"1\" class=\"dataframe\">\n",
       "  <thead>\n",
       "    <tr style=\"text-align: right;\">\n",
       "      <th></th>\n",
       "      <th>CANADA</th>\n",
       "      <th>FRANCA</th>\n",
       "      <th>ALEMANHA</th>\n",
       "      <th>ITALIA</th>\n",
       "      <th>JAPAO</th>\n",
       "      <th>REINO_UNIDO</th>\n",
       "      <th>USA</th>\n",
       "      <th>BRASIL</th>\n",
       "    </tr>\n",
       "  </thead>\n",
       "  <tbody>\n",
       "    <tr>\n",
       "      <th>0</th>\n",
       "      <td>-5.747126</td>\n",
       "      <td>0.917431</td>\n",
       "      <td>0.909091</td>\n",
       "      <td>0.000000</td>\n",
       "      <td>-6.428571</td>\n",
       "      <td>6.034483</td>\n",
       "      <td>3.000000</td>\n",
       "      <td>-1.612903</td>\n",
       "    </tr>\n",
       "    <tr>\n",
       "      <th>1</th>\n",
       "      <td>0.000000</td>\n",
       "      <td>-5.454545</td>\n",
       "      <td>-6.306306</td>\n",
       "      <td>-4.347826</td>\n",
       "      <td>11.450382</td>\n",
       "      <td>-2.439024</td>\n",
       "      <td>-0.970874</td>\n",
       "      <td>-32.786885</td>\n",
       "    </tr>\n",
       "    <tr>\n",
       "      <th>2</th>\n",
       "      <td>8.536585</td>\n",
       "      <td>-11.538462</td>\n",
       "      <td>-9.615385</td>\n",
       "      <td>-9.090909</td>\n",
       "      <td>5.479452</td>\n",
       "      <td>-5.000000</td>\n",
       "      <td>4.901961</td>\n",
       "      <td>7.317073</td>\n",
       "    </tr>\n",
       "    <tr>\n",
       "      <th>3</th>\n",
       "      <td>0.000000</td>\n",
       "      <td>0.000000</td>\n",
       "      <td>0.000000</td>\n",
       "      <td>2.500000</td>\n",
       "      <td>-9.740260</td>\n",
       "      <td>-1.754386</td>\n",
       "      <td>5.607477</td>\n",
       "      <td>-13.636364</td>\n",
       "    </tr>\n",
       "    <tr>\n",
       "      <th>4</th>\n",
       "      <td>-1.123596</td>\n",
       "      <td>3.260870</td>\n",
       "      <td>3.191489</td>\n",
       "      <td>6.097561</td>\n",
       "      <td>-7.913669</td>\n",
       "      <td>3.571429</td>\n",
       "      <td>-0.884956</td>\n",
       "      <td>-13.157895</td>\n",
       "    </tr>\n",
       "  </tbody>\n",
       "</table>\n",
       "</div>"
      ],
      "text/plain": [
       "     CANADA     FRANCA  ALEMANHA    ITALIA      JAPAO  REINO_UNIDO       USA  \\\n",
       "0 -5.747126   0.917431  0.909091  0.000000  -6.428571     6.034483  3.000000   \n",
       "1  0.000000  -5.454545 -6.306306 -4.347826  11.450382    -2.439024 -0.970874   \n",
       "2  8.536585 -11.538462 -9.615385 -9.090909   5.479452    -5.000000  4.901961   \n",
       "3  0.000000   0.000000  0.000000  2.500000  -9.740260    -1.754386  5.607477   \n",
       "4 -1.123596   3.260870  3.191489  6.097561  -7.913669     3.571429 -0.884956   \n",
       "\n",
       "      BRASIL  \n",
       "0  -1.612903  \n",
       "1 -32.786885  \n",
       "2   7.317073  \n",
       "3 -13.636364  \n",
       "4 -13.157895  "
      ]
     },
     "execution_count": 154,
     "metadata": {},
     "output_type": "execute_result"
    }
   ],
   "source": [
    "dfinfla.head()"
   ]
  },
  {
   "cell_type": "markdown",
   "metadata": {},
   "source": [
    "Nesse dataframe, cada país tem sua taxa de inflação registrada, exceto para o primeiro ano, que serve de base. Comparemos graficamente os dados."
   ]
  },
  {
   "cell_type": "code",
   "execution_count": 188,
   "metadata": {},
   "outputs": [
    {
     "data": {
      "image/png": "[encoded data removed]",
      "text/plain": [
       "<Figure size 432x288 with 1 Axes>"
      ]
     },
     "metadata": {
      "needs_background": "light"
     },
     "output_type": "display_data"
    }
   ],
   "source": [
    "plt.plot(df['TIME'].loc[1:], dfinfla['CANADA'], c = 'turquoise')\n",
    "plt.plot(df['TIME'].loc[1:], dfinfla['FRANCA'], c = 'darkgreen')\n",
    "plt.plot(df['TIME'].loc[1:], dfinfla['ALEMANHA'], c = 'orange')\n",
    "plt.plot(df['TIME'].loc[1:], dfinfla['ITALIA'], c = 'blue')\n",
    "plt.plot(df['TIME'].loc[1:], dfinfla['JAPAO'], c = 'black')\n",
    "plt.plot(df['TIME'].loc[1:], dfinfla['REINO_UNIDO'], c = 'yellow')\n",
    "plt.plot(df['TIME'].loc[1:], dfinfla['USA'], c = 'magenta')\n",
    "plt.plot(df['TIME'].loc[1:], dfinfla['BRASIL'], c = 'chartreuse')\n",
    "plt.show()"
   ]
  },
  {
   "cell_type": "markdown",
   "metadata": {},
   "source": [
    "Percebe-se que parece existir uma banda comum de +/- 10% para a taxa de inflação nos países considerados ao longo do tempo. O Brasil chama a atenção pela volatilidade do índice."
   ]
  },
  {
   "cell_type": "code",
   "execution_count": 186,
   "metadata": {},
   "outputs": [
    {
     "name": "stderr",
     "output_type": "stream",
     "text": [
      "<ipython-input-186-dcff3ffbe9cb>:3: RuntimeWarning: divide by zero encountered in double_scalars\n",
      "  canus.append(dfinfla['CANADA'][e] / dfinfla['USA'][e] * 100)\n",
      "<ipython-input-186-dcff3ffbe9cb>:7: RuntimeWarning: divide by zero encountered in double_scalars\n",
      "  canus.append(dfinfla['CANADA'][e] / dfinfla['USA'][e] * 100)\n",
      "<ipython-input-186-dcff3ffbe9cb>:11: RuntimeWarning: divide by zero encountered in double_scalars\n",
      "  fraus.append(dfinfla['CANADA'][e] / dfinfla['USA'][e] * 100)\n",
      "<ipython-input-186-dcff3ffbe9cb>:15: RuntimeWarning: divide by zero encountered in double_scalars\n",
      "  aleus.append(dfinfla['CANADA'][e] / dfinfla['USA'][e] * 100)\n",
      "<ipython-input-186-dcff3ffbe9cb>:19: RuntimeWarning: divide by zero encountered in double_scalars\n",
      "  itaus.append(dfinfla['CANADA'][e] / dfinfla['USA'][e] * 100)\n",
      "<ipython-input-186-dcff3ffbe9cb>:23: RuntimeWarning: divide by zero encountered in double_scalars\n",
      "  japus.append(dfinfla['CANADA'][e] / dfinfla['USA'][e] * 100)\n",
      "<ipython-input-186-dcff3ffbe9cb>:27: RuntimeWarning: divide by zero encountered in double_scalars\n",
      "  ukus.append(dfinfla['CANADA'][e] / dfinfla['USA'][e] * 100)\n",
      "<ipython-input-186-dcff3ffbe9cb>:31: RuntimeWarning: divide by zero encountered in double_scalars\n",
      "  braus.append(dfinfla['CANADA'][e] / dfinfla['USA'][e] * 100)\n"
     ]
    }
   ],
   "source": [
    "canus = []\n",
    "for e in range(0, len(dfinfla['USA'])):\n",
    "    canus.append(dfinfla['CANADA'][e] / dfinfla['USA'][e] * 100)\n",
    "    \n",
    "canus = []\n",
    "for e in range(0, len(dfinfla['USA'])):\n",
    "    canus.append(dfinfla['CANADA'][e] / dfinfla['USA'][e] * 100)\n",
    "    \n",
    "fraus = []\n",
    "for e in range(0, len(dfinfla['USA'])):\n",
    "    fraus.append(dfinfla['CANADA'][e] / dfinfla['USA'][e] * 100)\n",
    "    \n",
    "aleus = []\n",
    "for e in range(0, len(dfinfla['USA'])):\n",
    "    aleus.append(dfinfla['CANADA'][e] / dfinfla['USA'][e] * 100)\n",
    "\n",
    "itaus = []\n",
    "for e in range(0, len(dfinfla['USA'])):\n",
    "    itaus.append(dfinfla['CANADA'][e] / dfinfla['USA'][e] * 100)\n",
    "    \n",
    "japus = []\n",
    "for e in range(0, len(dfinfla['USA'])):\n",
    "    japus.append(dfinfla['CANADA'][e] / dfinfla['USA'][e] * 100)\n",
    "    \n",
    "ukus = []\n",
    "for e in range(0, len(dfinfla['USA'])):\n",
    "    ukus.append(dfinfla['CANADA'][e] / dfinfla['USA'][e] * 100)\n",
    "    \n",
    "braus = []\n",
    "for e in range(0, len(dfinfla['USA'])):\n",
    "    braus.append(dfinfla['CANADA'][e] / dfinfla['USA'][e] * 100)"
   ]
  },
  {
   "cell_type": "markdown",
   "metadata": {},
   "source": [
    "Segundo o erro, para alguns casos, foi registrada uma inflação nula nos EUA. Isso significa que, para todos os efeitos, a taxa de inflação do outro país em consideração é extremamente elevada em relação à americana. Esses casos são registrados como \"inf\". A exemplo, para o Japão,"
   ]
  },
  {
   "cell_type": "code",
   "execution_count": 187,
   "metadata": {},
   "outputs": [
    {
     "data": {
      "text/plain": [
       "[-191.57088122605364,\n",
       " -0.0,\n",
       " 174.14634146341464,\n",
       " 0.0,\n",
       " 126.96629213483146,\n",
       " -47.72727272727273,\n",
       " -68.57142857142857,\n",
       " inf,\n",
       " 800.0,\n",
       " -62.30529595015576,\n",
       " -0.0,\n",
       " -86.23853211009175,\n",
       " -1237.5,\n",
       " -125.64102564102562,\n",
       " 80.0,\n",
       " -53.65853658536586,\n",
       " -505.78512396694225,\n",
       " -32.56916996047431,\n",
       " -308.1081081081081]"
      ]
     },
     "execution_count": 187,
     "metadata": {},
     "output_type": "execute_result"
    }
   ],
   "source": [
    "japus"
   ]
  },
  {
   "cell_type": "markdown",
   "metadata": {},
   "source": [
    "Faremos agora um modelo de regressão linear simples $inflacao_t = \\alpha + \\beta*tempo_t + u_t$, para os EUA, Alemanha e Itália. O ```sklearn``` fornece um modo simples de gerar o modelo."
   ]
  },
  {
   "cell_type": "code",
   "execution_count": 191,
   "metadata": {},
   "outputs": [],
   "source": [
    "from sklearn.linear_model import LinearRegression"
   ]
  },
  {
   "cell_type": "code",
   "execution_count": 222,
   "metadata": {},
   "outputs": [],
   "source": [
    "xus = np.array(df['TIME'].loc[1:]).reshape((-1, 1))\n",
    "yus = np.array(usinfla)\n",
    "\n",
    "modelus = LinearRegression().fit(xus, yus)\n",
    "\n",
    "xale = np.array(df['TIME'].loc[1:]).reshape((-1, 1))\n",
    "yale = np.array(aleinfla)\n",
    "\n",
    "modelale = LinearRegression().fit(xale, yale)\n",
    "\n",
    "xita = np.array(df['TIME'].loc[1:]).reshape((-1, 1))\n",
    "yita = np.array(itainfla)\n",
    "\n",
    "modelita = LinearRegression().fit(xita, yita)"
   ]
  },
  {
   "cell_type": "code",
   "execution_count": 221,
   "metadata": {},
   "outputs": [
    {
     "data": {
      "text/plain": [
       "(array([-0.05532284]),\n",
       " array([0.17099204]),\n",
       " array([-0.20991337]),\n",
       " array([-0.20991337]))"
      ]
     },
     "execution_count": 221,
     "metadata": {},
     "output_type": "execute_result"
    }
   ],
   "source": [
    "alemod = modelale.coef_\n",
    "usmod = modelus.coef_\n",
    "itamod = modelita.coef_\n",
    "\n",
    "alemod, usmod, itamod, min(alemod, usmod, itamod)"
   ]
  },
  {
   "cell_type": "markdown",
   "metadata": {},
   "source": [
    "Vê-se que a Itália tem o menor $beta$ entre os três países."
   ]
  }
 ],
 "metadata": {
  "kernelspec": {
   "display_name": "Python 3",
   "language": "python",
   "name": "python3"
  },
  "language_info": {
   "codemirror_mode": {
    "name": "ipython",
    "version": 3
   },
   "file_extension": ".py",
   "mimetype": "text/x-python",
   "name": "python",
   "nbconvert_exporter": "python",
   "pygments_lexer": "ipython3",
   "version": "3.8.5"
  }
 },
 "nbformat": 4,
 "nbformat_minor": 4
}
