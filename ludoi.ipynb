{
 "cells": [
  {
   "cell_type": "code",
   "execution_count": 98,
   "id": "ae4938c2",
   "metadata": {},
   "outputs": [],
   "source": [
    "import pandas as pd, numpy as np, matplotlib.pyplot as plt\n",
    "from scipy.stats import shapiro"
   ]
  },
  {
   "cell_type": "code",
   "execution_count": 3,
   "id": "f90a9b6b",
   "metadata": {},
   "outputs": [],
   "source": [
    "ludi = pd.read_excel('Ludi.xlsx')"
   ]
  },
  {
   "cell_type": "code",
   "execution_count": 28,
   "id": "03f4d14a",
   "metadata": {},
   "outputs": [],
   "source": [
    "ludi.columns = ludi.iloc[0]"
   ]
  },
  {
   "cell_type": "code",
   "execution_count": 29,
   "id": "84898348",
   "metadata": {
    "scrolled": false
   },
   "outputs": [
    {
     "data": {
      "text/html": [
       "<div>\n",
       "<style scoped>\n",
       "    .dataframe tbody tr th:only-of-type {\n",
       "        vertical-align: middle;\n",
       "    }\n",
       "\n",
       "    .dataframe tbody tr th {\n",
       "        vertical-align: top;\n",
       "    }\n",
       "\n",
       "    .dataframe thead th {\n",
       "        text-align: right;\n",
       "    }\n",
       "</style>\n",
       "<table border=\"1\" class=\"dataframe\">\n",
       "  <thead>\n",
       "    <tr style=\"text-align: right;\">\n",
       "      <th></th>\n",
       "      <th>Nome</th>\n",
       "      <th>Classe</th>\n",
       "      <th>Código</th>\n",
       "      <th>RenPat2020</th>\n",
       "      <th>RenPat2019</th>\n",
       "      <th>RentAt2019</th>\n",
       "      <th>RentAt2020</th>\n",
       "      <th>Fechamento|31Dez18|ajust p/ prov|Em moeda orig</th>\n",
       "      <th>Fechamento|31Dez19|ajust p/ prov|Em moeda orig</th>\n",
       "      <th>Fechamento|31Dez20|ajust p/ prov|Em moeda orig</th>\n",
       "    </tr>\n",
       "  </thead>\n",
       "  <tbody>\n",
       "    <tr>\n",
       "      <th>0</th>\n",
       "      <td>Nome</td>\n",
       "      <td>Classe</td>\n",
       "      <td>Código</td>\n",
       "      <td>RenPat2020</td>\n",
       "      <td>RenPat2019</td>\n",
       "      <td>RentAt2019</td>\n",
       "      <td>RentAt2020</td>\n",
       "      <td>Fechamento|31Dez18|ajust p/ prov|Em moeda orig</td>\n",
       "      <td>Fechamento|31Dez19|ajust p/ prov|Em moeda orig</td>\n",
       "      <td>Fechamento|31Dez20|ajust p/ prov|Em moeda orig</td>\n",
       "    </tr>\n",
       "    <tr>\n",
       "      <th>1</th>\n",
       "      <td>3r Petroleum</td>\n",
       "      <td>ON</td>\n",
       "      <td>RRRP3</td>\n",
       "      <td>-116.78</td>\n",
       "      <td>-12.49</td>\n",
       "      <td>-8.06</td>\n",
       "      <td>-13.11</td>\n",
       "      <td>-</td>\n",
       "      <td>-</td>\n",
       "      <td>37.2</td>\n",
       "    </tr>\n",
       "    <tr>\n",
       "      <th>2</th>\n",
       "      <td>3tentos</td>\n",
       "      <td>ON</td>\n",
       "      <td>TTEN3</td>\n",
       "      <td>61.59</td>\n",
       "      <td>40.35</td>\n",
       "      <td>7.93</td>\n",
       "      <td>10.61</td>\n",
       "      <td>-</td>\n",
       "      <td>-</td>\n",
       "      <td>-</td>\n",
       "    </tr>\n",
       "    <tr>\n",
       "      <th>3</th>\n",
       "      <td>524 Particip</td>\n",
       "      <td>ON</td>\n",
       "      <td>QVQP3B</td>\n",
       "      <td>-229.09</td>\n",
       "      <td>-148.39</td>\n",
       "      <td>-250.91</td>\n",
       "      <td>-84</td>\n",
       "      <td>-</td>\n",
       "      <td>-</td>\n",
       "      <td>-</td>\n",
       "    </tr>\n",
       "    <tr>\n",
       "      <th>4</th>\n",
       "      <td>Abc Brasil</td>\n",
       "      <td>PN</td>\n",
       "      <td>ABCB4</td>\n",
       "      <td>7.97</td>\n",
       "      <td>14.42</td>\n",
       "      <td>1.46</td>\n",
       "      <td>0.74</td>\n",
       "      <td>14.140479</td>\n",
       "      <td>18.10642</td>\n",
       "      <td>14.598887</td>\n",
       "    </tr>\n",
       "  </tbody>\n",
       "</table>\n",
       "</div>"
      ],
      "text/plain": [
       "0          Nome  Classe  Código  RenPat2020  RenPat2019  RentAt2019  \\\n",
       "0          Nome  Classe  Código  RenPat2020  RenPat2019  RentAt2019   \n",
       "1  3r Petroleum      ON   RRRP3     -116.78      -12.49       -8.06   \n",
       "2       3tentos      ON   TTEN3       61.59       40.35        7.93   \n",
       "3  524 Particip      ON  QVQP3B     -229.09     -148.39     -250.91   \n",
       "4    Abc Brasil      PN   ABCB4        7.97       14.42        1.46   \n",
       "\n",
       "0  RentAt2020  Fechamento|31Dez18|ajust p/ prov|Em moeda orig  \\\n",
       "0  RentAt2020  Fechamento|31Dez18|ajust p/ prov|Em moeda orig   \n",
       "1      -13.11                                               -   \n",
       "2       10.61                                               -   \n",
       "3         -84                                               -   \n",
       "4        0.74                                       14.140479   \n",
       "\n",
       "0  Fechamento|31Dez19|ajust p/ prov|Em moeda orig  \\\n",
       "0  Fechamento|31Dez19|ajust p/ prov|Em moeda orig   \n",
       "1                                               -   \n",
       "2                                               -   \n",
       "3                                               -   \n",
       "4                                        18.10642   \n",
       "\n",
       "0  Fechamento|31Dez20|ajust p/ prov|Em moeda orig  \n",
       "0  Fechamento|31Dez20|ajust p/ prov|Em moeda orig  \n",
       "1                                            37.2  \n",
       "2                                               -  \n",
       "3                                               -  \n",
       "4                                       14.598887  "
      ]
     },
     "execution_count": 29,
     "metadata": {},
     "output_type": "execute_result"
    }
   ],
   "source": [
    "ludi.head()"
   ]
  },
  {
   "cell_type": "code",
   "execution_count": 93,
   "id": "298a2432",
   "metadata": {},
   "outputs": [],
   "source": [
    "ludiPat2019 = []\n",
    "for e in range(len(ludi['RenPat2019'][1:])):\n",
    "    if ludi['RenPat2019'][1:].iloc[e] != '-':\n",
    "        ludiPat2019.append(ludi['RenPat2019'][1:].iloc[e])\n",
    "        \n",
    "ludiPat2020 = []\n",
    "for e in range(len(ludi['RenPat2020'][1:])):\n",
    "    if ludi['RenPat2020'][1:].iloc[e] != '-':\n",
    "        ludiPat2020.append(ludi['RenPat2020'][1:].iloc[e])\n",
    "        \n",
    "ludiAt2019 = []\n",
    "for e in range(len(ludi['RentAt2019'][1:])):\n",
    "    if ludi['RentAt2019'][1:].iloc[e] != '-':\n",
    "        ludiAt2019.append(ludi['RentAt2019'][1:].iloc[e])\n",
    "        \n",
    "ludiAt2020 = []\n",
    "for e in range(len(ludi['RentAt2020'][1:])):\n",
    "    if ludi['RentAt2020'][1:].iloc[e] != '-':\n",
    "        ludiAt2020.append(ludi['RentAt2020'][1:].iloc[e])"
   ]
  },
  {
   "cell_type": "code",
   "execution_count": 94,
   "id": "e214c001",
   "metadata": {},
   "outputs": [
    {
     "data": {
      "text/plain": [
       "ShapiroResult(statistic=0.08701467514038086, pvalue=7.957285100575574e-38)"
      ]
     },
     "execution_count": 94,
     "metadata": {},
     "output_type": "execute_result"
    }
   ],
   "source": [
    "shapiro(ludiPat2019)"
   ]
  },
  {
   "cell_type": "code",
   "execution_count": 95,
   "id": "c0a52afb",
   "metadata": {},
   "outputs": [
    {
     "data": {
      "text/plain": [
       "ShapiroResult(statistic=0.03254508972167969, pvalue=9.987311994160407e-39)"
      ]
     },
     "execution_count": 95,
     "metadata": {},
     "output_type": "execute_result"
    }
   ],
   "source": [
    "shapiro(ludiPat2020)"
   ]
  },
  {
   "cell_type": "code",
   "execution_count": 96,
   "id": "df60cc5f",
   "metadata": {},
   "outputs": [
    {
     "data": {
      "text/plain": [
       "ShapiroResult(statistic=0.03444254398345947, pvalue=7.568272875971905e-41)"
      ]
     },
     "execution_count": 96,
     "metadata": {},
     "output_type": "execute_result"
    }
   ],
   "source": [
    "shapiro(ludiAt2019)"
   ]
  },
  {
   "cell_type": "code",
   "execution_count": 97,
   "id": "baed8ad1",
   "metadata": {},
   "outputs": [
    {
     "data": {
      "text/plain": [
       "ShapiroResult(statistic=0.15818744897842407, pvalue=4.8001296726646247e-39)"
      ]
     },
     "execution_count": 97,
     "metadata": {},
     "output_type": "execute_result"
    }
   ],
   "source": [
    "shapiro(ludiAt2020)"
   ]
  },
  {
   "cell_type": "code",
   "execution_count": 101,
   "id": "6c8c557c",
   "metadata": {},
   "outputs": [
    {
     "data": {
      "text/plain": [
       "[<matplotlib.lines.Line2D at 0x1f147adc430>]"
      ]
     },
     "execution_count": 101,
     "metadata": {},
     "output_type": "execute_result"
    },
    {
     "data": {
      "image/png": "[encoded data removed]",
      "text/plain": [
       "<Figure size 432x288 with 1 Axes>"
      ]
     },
     "metadata": {
      "needs_background": "light"
     },
     "output_type": "display_data"
    }
   ],
   "source": [
    "plt.plot(ludiPat2020)"
   ]
  }
 ],
 "metadata": {
  "kernelspec": {
   "display_name": "Python 3",
   "language": "python",
   "name": "python3"
  },
  "language_info": {
   "codemirror_mode": {
    "name": "ipython",
    "version": 3
   },
   "file_extension": ".py",
   "mimetype": "text/x-python",
   "name": "python",
   "nbconvert_exporter": "python",
   "pygments_lexer": "ipython3",
   "version": "3.8.8"
  }
 },
 "nbformat": 4,
 "nbformat_minor": 5
}
